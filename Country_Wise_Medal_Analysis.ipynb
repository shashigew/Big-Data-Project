{
  "nbformat": 4,
  "nbformat_minor": 0,
  "metadata": {
    "colab": {
      "provenance": [],
      "authorship_tag": "ABX9TyMGyG5dNg+7jOiTpnkwpBDi",
      "include_colab_link": true
    },
    "kernelspec": {
      "name": "python3",
      "display_name": "Python 3"
    },
    "language_info": {
      "name": "python"
    }
  },
  "cells": [
    {
      "cell_type": "markdown",
      "metadata": {
        "id": "view-in-github",
        "colab_type": "text"
      },
      "source": [
        "<a href=\"https://colab.research.google.com/github/shashigew/Big-Data-Project/blob/main/Country_Wise_Medal_Analysis.ipynb\" target=\"_parent\"><img src=\"https://colab.research.google.com/assets/colab-badge.svg\" alt=\"Open In Colab\"/></a>"
      ]
    },
    {
      "cell_type": "code",
      "source": [
        "!pip install pyspark"
      ],
      "metadata": {
        "colab": {
          "base_uri": "https://localhost:8080/"
        },
        "id": "AQ2ptY3htsYS",
        "outputId": "3018da90-a50a-4b69-ce35-30b36ff982f1"
      },
      "execution_count": 16,
      "outputs": [
        {
          "output_type": "stream",
          "name": "stdout",
          "text": [
            "Requirement already satisfied: pyspark in /usr/local/lib/python3.12/dist-packages (3.5.1)\n",
            "Requirement already satisfied: py4j==0.10.9.7 in /usr/local/lib/python3.12/dist-packages (from pyspark) (0.10.9.7)\n"
          ]
        }
      ]
    },
    {
      "cell_type": "code",
      "source": [
        "from google.colab import files\n",
        "uploaded = files.upload()  # Upload dictionary.csv, summer.csv, winter.csv"
      ],
      "metadata": {
        "colab": {
          "base_uri": "https://localhost:8080/",
          "height": 142
        },
        "id": "txaTWOAKtzni",
        "outputId": "23e139cb-4148-49cb-ced7-bbcc9dea1835"
      },
      "execution_count": 17,
      "outputs": [
        {
          "output_type": "display_data",
          "data": {
            "text/plain": [
              "<IPython.core.display.HTML object>"
            ],
            "text/html": [
              "\n",
              "     <input type=\"file\" id=\"files-bb245627-1417-486f-b454-4959d3803ab1\" name=\"files[]\" multiple disabled\n",
              "        style=\"border:none\" />\n",
              "     <output id=\"result-bb245627-1417-486f-b454-4959d3803ab1\">\n",
              "      Upload widget is only available when the cell has been executed in the\n",
              "      current browser session. Please rerun this cell to enable.\n",
              "      </output>\n",
              "      <script>// Copyright 2017 Google LLC\n",
              "//\n",
              "// Licensed under the Apache License, Version 2.0 (the \"License\");\n",
              "// you may not use this file except in compliance with the License.\n",
              "// You may obtain a copy of the License at\n",
              "//\n",
              "//      http://www.apache.org/licenses/LICENSE-2.0\n",
              "//\n",
              "// Unless required by applicable law or agreed to in writing, software\n",
              "// distributed under the License is distributed on an \"AS IS\" BASIS,\n",
              "// WITHOUT WARRANTIES OR CONDITIONS OF ANY KIND, either express or implied.\n",
              "// See the License for the specific language governing permissions and\n",
              "// limitations under the License.\n",
              "\n",
              "/**\n",
              " * @fileoverview Helpers for google.colab Python module.\n",
              " */\n",
              "(function(scope) {\n",
              "function span(text, styleAttributes = {}) {\n",
              "  const element = document.createElement('span');\n",
              "  element.textContent = text;\n",
              "  for (const key of Object.keys(styleAttributes)) {\n",
              "    element.style[key] = styleAttributes[key];\n",
              "  }\n",
              "  return element;\n",
              "}\n",
              "\n",
              "// Max number of bytes which will be uploaded at a time.\n",
              "const MAX_PAYLOAD_SIZE = 100 * 1024;\n",
              "\n",
              "function _uploadFiles(inputId, outputId) {\n",
              "  const steps = uploadFilesStep(inputId, outputId);\n",
              "  const outputElement = document.getElementById(outputId);\n",
              "  // Cache steps on the outputElement to make it available for the next call\n",
              "  // to uploadFilesContinue from Python.\n",
              "  outputElement.steps = steps;\n",
              "\n",
              "  return _uploadFilesContinue(outputId);\n",
              "}\n",
              "\n",
              "// This is roughly an async generator (not supported in the browser yet),\n",
              "// where there are multiple asynchronous steps and the Python side is going\n",
              "// to poll for completion of each step.\n",
              "// This uses a Promise to block the python side on completion of each step,\n",
              "// then passes the result of the previous step as the input to the next step.\n",
              "function _uploadFilesContinue(outputId) {\n",
              "  const outputElement = document.getElementById(outputId);\n",
              "  const steps = outputElement.steps;\n",
              "\n",
              "  const next = steps.next(outputElement.lastPromiseValue);\n",
              "  return Promise.resolve(next.value.promise).then((value) => {\n",
              "    // Cache the last promise value to make it available to the next\n",
              "    // step of the generator.\n",
              "    outputElement.lastPromiseValue = value;\n",
              "    return next.value.response;\n",
              "  });\n",
              "}\n",
              "\n",
              "/**\n",
              " * Generator function which is called between each async step of the upload\n",
              " * process.\n",
              " * @param {string} inputId Element ID of the input file picker element.\n",
              " * @param {string} outputId Element ID of the output display.\n",
              " * @return {!Iterable<!Object>} Iterable of next steps.\n",
              " */\n",
              "function* uploadFilesStep(inputId, outputId) {\n",
              "  const inputElement = document.getElementById(inputId);\n",
              "  inputElement.disabled = false;\n",
              "\n",
              "  const outputElement = document.getElementById(outputId);\n",
              "  outputElement.innerHTML = '';\n",
              "\n",
              "  const pickedPromise = new Promise((resolve) => {\n",
              "    inputElement.addEventListener('change', (e) => {\n",
              "      resolve(e.target.files);\n",
              "    });\n",
              "  });\n",
              "\n",
              "  const cancel = document.createElement('button');\n",
              "  inputElement.parentElement.appendChild(cancel);\n",
              "  cancel.textContent = 'Cancel upload';\n",
              "  const cancelPromise = new Promise((resolve) => {\n",
              "    cancel.onclick = () => {\n",
              "      resolve(null);\n",
              "    };\n",
              "  });\n",
              "\n",
              "  // Wait for the user to pick the files.\n",
              "  const files = yield {\n",
              "    promise: Promise.race([pickedPromise, cancelPromise]),\n",
              "    response: {\n",
              "      action: 'starting',\n",
              "    }\n",
              "  };\n",
              "\n",
              "  cancel.remove();\n",
              "\n",
              "  // Disable the input element since further picks are not allowed.\n",
              "  inputElement.disabled = true;\n",
              "\n",
              "  if (!files) {\n",
              "    return {\n",
              "      response: {\n",
              "        action: 'complete',\n",
              "      }\n",
              "    };\n",
              "  }\n",
              "\n",
              "  for (const file of files) {\n",
              "    const li = document.createElement('li');\n",
              "    li.append(span(file.name, {fontWeight: 'bold'}));\n",
              "    li.append(span(\n",
              "        `(${file.type || 'n/a'}) - ${file.size} bytes, ` +\n",
              "        `last modified: ${\n",
              "            file.lastModifiedDate ? file.lastModifiedDate.toLocaleDateString() :\n",
              "                                    'n/a'} - `));\n",
              "    const percent = span('0% done');\n",
              "    li.appendChild(percent);\n",
              "\n",
              "    outputElement.appendChild(li);\n",
              "\n",
              "    const fileDataPromise = new Promise((resolve) => {\n",
              "      const reader = new FileReader();\n",
              "      reader.onload = (e) => {\n",
              "        resolve(e.target.result);\n",
              "      };\n",
              "      reader.readAsArrayBuffer(file);\n",
              "    });\n",
              "    // Wait for the data to be ready.\n",
              "    let fileData = yield {\n",
              "      promise: fileDataPromise,\n",
              "      response: {\n",
              "        action: 'continue',\n",
              "      }\n",
              "    };\n",
              "\n",
              "    // Use a chunked sending to avoid message size limits. See b/62115660.\n",
              "    let position = 0;\n",
              "    do {\n",
              "      const length = Math.min(fileData.byteLength - position, MAX_PAYLOAD_SIZE);\n",
              "      const chunk = new Uint8Array(fileData, position, length);\n",
              "      position += length;\n",
              "\n",
              "      const base64 = btoa(String.fromCharCode.apply(null, chunk));\n",
              "      yield {\n",
              "        response: {\n",
              "          action: 'append',\n",
              "          file: file.name,\n",
              "          data: base64,\n",
              "        },\n",
              "      };\n",
              "\n",
              "      let percentDone = fileData.byteLength === 0 ?\n",
              "          100 :\n",
              "          Math.round((position / fileData.byteLength) * 100);\n",
              "      percent.textContent = `${percentDone}% done`;\n",
              "\n",
              "    } while (position < fileData.byteLength);\n",
              "  }\n",
              "\n",
              "  // All done.\n",
              "  yield {\n",
              "    response: {\n",
              "      action: 'complete',\n",
              "    }\n",
              "  };\n",
              "}\n",
              "\n",
              "scope.google = scope.google || {};\n",
              "scope.google.colab = scope.google.colab || {};\n",
              "scope.google.colab._files = {\n",
              "  _uploadFiles,\n",
              "  _uploadFilesContinue,\n",
              "};\n",
              "})(self);\n",
              "</script> "
            ]
          },
          "metadata": {}
        },
        {
          "output_type": "stream",
          "name": "stdout",
          "text": [
            "Saving dictionary.csv to dictionary.csv\n",
            "Saving summer.csv to summer.csv\n",
            "Saving winter.csv to winter.csv\n"
          ]
        }
      ]
    },
    {
      "cell_type": "code",
      "source": [
        "from pyspark.sql import SparkSession\n",
        "from pyspark.sql.functions import col, count, sum as spark_sum, avg, when, lit, year, desc, round\n",
        "from pyspark.sql.types import StringType, IntegerType, DoubleType\n",
        "from pyspark.ml.feature import VectorAssembler\n",
        "from pyspark.ml.regression import LinearRegression\n",
        "from pyspark.ml.evaluation import RegressionEvaluator\n",
        "import matplotlib.pyplot as plt\n",
        "import pandas as pd  # For final viz\n",
        "\n",
        "# Initialize Spark\n",
        "spark = SparkSession.builder.appName(\"OlympicAnalytics\").getOrCreate()\n",
        "spark.conf.set(\"spark.sql.adaptive.enabled\", \"true\")\n",
        "\n",
        "# Load CSVs (assumes uploaded files)\n",
        "df_dict = spark.read.option(\"header\", \"true\").csv(\"dictionary.csv\", inferSchema=True)\n",
        "df_summer = spark.read.option(\"header\", \"true\").csv(\"summer.csv\", inferSchema=True)\n",
        "df_winter = spark.read.option(\"header\", \"true\").csv(\"winter.csv\", inferSchema=True)\n",
        "\n",
        "# Union summer and winter\n",
        "df_olympics = df_summer.union(df_winter)\n",
        "\n",
        "# Cache for performance\n",
        "df_olympics.cache()\n",
        "df_dict.cache()\n",
        "\n",
        "# Quick schema check\n",
        "print(\"Olympics Schema:\")\n",
        "df_olympics.printSchema()\n",
        "print(\"\\nDictionary Schema:\")\n",
        "df_dict.printSchema()"
      ],
      "metadata": {
        "colab": {
          "base_uri": "https://localhost:8080/"
        },
        "id": "AfByAH5DuAkI",
        "outputId": "913ad414-ee09-4f4a-ed16-9d6035d71e14"
      },
      "execution_count": 18,
      "outputs": [
        {
          "output_type": "stream",
          "name": "stdout",
          "text": [
            "Olympics Schema:\n",
            "root\n",
            " |-- Year: integer (nullable = true)\n",
            " |-- City: string (nullable = true)\n",
            " |-- Sport: string (nullable = true)\n",
            " |-- Discipline: string (nullable = true)\n",
            " |-- Athlete: string (nullable = true)\n",
            " |-- Country: string (nullable = true)\n",
            " |-- Gender: string (nullable = true)\n",
            " |-- Event: string (nullable = true)\n",
            " |-- Medal: string (nullable = true)\n",
            "\n",
            "\n",
            "Dictionary Schema:\n",
            "root\n",
            " |-- Country: string (nullable = true)\n",
            " |-- Code: string (nullable = true)\n",
            " |-- Population: integer (nullable = true)\n",
            " |-- GDP per Capita: double (nullable = true)\n",
            "\n"
          ]
        }
      ]
    },
    {
      "cell_type": "code",
      "source": [
        "# Read uploaded CSVs into PySpark DataFrames\n",
        "# Make sure the filenames match exactly with what you uploaded\n",
        "summer_df = spark.read.csv(\"summer.csv\", header=True, inferSchema=True)\n",
        "winter_df = spark.read.csv(\"winter.csv\", header=True, inferSchema=True)\n",
        "dictionary_df = spark.read.csv(\"dictionary.csv\", header=True, inferSchema=True)\n",
        "\n",
        "# Display sample data\n",
        "print(\"Summer Data Sample:\")\n",
        "summer_df.show(5)\n",
        "\n",
        "print(\"Winter Data Sample:\")\n",
        "winter_df.show(5)\n",
        "\n",
        "print(\"Dictionary Data Sample:\")\n",
        "dictionary_df.show(5)\n"
      ],
      "metadata": {
        "colab": {
          "base_uri": "https://localhost:8080/"
        },
        "id": "sAO7GJ82xcmV",
        "outputId": "50c512fb-4a1b-4f31-fc1c-3f1bb774cdf4"
      },
      "execution_count": 38,
      "outputs": [
        {
          "output_type": "stream",
          "name": "stdout",
          "text": [
            "Summer Data Sample:\n",
            "+----+------+--------+----------+------------------+-------+------+--------------------+------+\n",
            "|Year|  City|   Sport|Discipline|           Athlete|Country|Gender|               Event| Medal|\n",
            "+----+------+--------+----------+------------------+-------+------+--------------------+------+\n",
            "|1896|Athens|Aquatics|  Swimming|     HAJOS, Alfred|    HUN|   Men|      100M Freestyle|  Gold|\n",
            "|1896|Athens|Aquatics|  Swimming|  HERSCHMANN, Otto|    AUT|   Men|      100M Freestyle|Silver|\n",
            "|1896|Athens|Aquatics|  Swimming| DRIVAS, Dimitrios|    GRE|   Men|100M Freestyle Fo...|Bronze|\n",
            "|1896|Athens|Aquatics|  Swimming|MALOKINIS, Ioannis|    GRE|   Men|100M Freestyle Fo...|  Gold|\n",
            "|1896|Athens|Aquatics|  Swimming|CHASAPIS, Spiridon|    GRE|   Men|100M Freestyle Fo...|Silver|\n",
            "+----+------+--------+----------+------------------+-------+------+--------------------+------+\n",
            "only showing top 5 rows\n",
            "\n",
            "Winter Data Sample:\n",
            "+----+--------+--------+----------+--------------------+-------+------+---------------+------+\n",
            "|Year|    City|   Sport|Discipline|             Athlete|Country|Gender|          Event| Medal|\n",
            "+----+--------+--------+----------+--------------------+-------+------+---------------+------+\n",
            "|1924|Chamonix|Biathlon|  Biathlon|         BERTHET, G.|    FRA|   Men|Military Patrol|Bronze|\n",
            "|1924|Chamonix|Biathlon|  Biathlon|      MANDRILLON, C.|    FRA|   Men|Military Patrol|Bronze|\n",
            "|1924|Chamonix|Biathlon|  Biathlon| MANDRILLON, Maurice|    FRA|   Men|Military Patrol|Bronze|\n",
            "|1924|Chamonix|Biathlon|  Biathlon|     VANDELLE, André|    FRA|   Men|Military Patrol|Bronze|\n",
            "|1924|Chamonix|Biathlon|  Biathlon|AUFDENBLATTEN, Adolf|    SUI|   Men|Military Patrol|  Gold|\n",
            "+----+--------+--------+----------+--------------------+-------+------+---------------+------+\n",
            "only showing top 5 rows\n",
            "\n",
            "Dictionary Data Sample:\n",
            "+---------------+----+----------+----------------+\n",
            "|        Country|Code|Population|  GDP per Capita|\n",
            "+---------------+----+----------+----------------+\n",
            "|    Afghanistan| AFG|  32526562|594.323081219966|\n",
            "|        Albania| ALB|   2889167|3945.21758150914|\n",
            "|        Algeria| ALG|  39666519|4206.03123244958|\n",
            "|American Samoa*| ASA|     55538|            NULL|\n",
            "|        Andorra| AND|     70473|            NULL|\n",
            "+---------------+----+----------+----------------+\n",
            "only showing top 5 rows\n",
            "\n"
          ]
        }
      ]
    },
    {
      "cell_type": "code",
      "source": [
        "# Clean Olympics: Filter valid medals, standardize Country codes, extract Year as int\n",
        "df_olympics_clean = df_olympics.filter(col(\"Medal\").isin(\"Gold\", \"Silver\", \"Bronze\")) \\\n",
        "    .withColumn(\"YearInt\", col(\"Year\").cast(IntegerType())) \\\n",
        "    .dropna(subset=[\"Country\", \"Medal\"])\n",
        "\n",
        "# Clean Dictionary: Cast types, handle missing GDP/Pop\n",
        "df_dict_clean = df_dict.withColumn(\"Population\", col(\"Population\").cast(IntegerType())) \\\n",
        "    .withColumn(\"GDP per Capita\", col(\"GDP per Capita\").cast(DoubleType())) \\\n",
        "    .fillna({\"Population\": 0, \"GDP per Capita\": 0.0})\n",
        "\n",
        "# Join on Country code (assuming Olympics uses 3-letter codes like 'USA')\n",
        "df_joined = df_olympics_clean.join(df_dict_clean, df_olympics_clean.Country == df_dict_clean.Code, \"left\") \\\n",
        "    .drop(df_dict_clean.Country) # Drop the redundant Country column from the dictionary dataframe after join\n",
        "\n",
        "# Show sample\n",
        "df_joined.select(\"YearInt\", df_olympics_clean.Country, \"Sport\", \"Medal\", \"Population\", \"GDP per Capita\").show(10)\n",
        "print(f\"Total rows after join: {df_joined.count()}\")"
      ],
      "metadata": {
        "colab": {
          "base_uri": "https://localhost:8080/"
        },
        "id": "6rf78w2ruIrJ",
        "outputId": "49c4a08b-742a-4201-c50b-3781bde2c5cb"
      },
      "execution_count": 37,
      "outputs": [
        {
          "output_type": "stream",
          "name": "stdout",
          "text": [
            "+-------+-------+--------+------+----------+----------------+\n",
            "|YearInt|Country|   Sport| Medal|Population|  GDP per Capita|\n",
            "+-------+-------+--------+------+----------+----------------+\n",
            "|   1896|    HUN|Aquatics|  Gold|   9844686|12363.5434596539|\n",
            "|   1896|    AUT|Aquatics|Silver|   8611088| 43774.985173612|\n",
            "|   1896|    GRE|Aquatics|Bronze|  10823732|18002.2305776688|\n",
            "|   1896|    GRE|Aquatics|  Gold|  10823732|18002.2305776688|\n",
            "|   1896|    GRE|Aquatics|Silver|  10823732|18002.2305776688|\n",
            "|   1896|    GRE|Aquatics|Bronze|  10823732|18002.2305776688|\n",
            "|   1896|    HUN|Aquatics|  Gold|   9844686|12363.5434596539|\n",
            "|   1896|    GRE|Aquatics|Silver|  10823732|18002.2305776688|\n",
            "|   1896|    GRE|Aquatics|Bronze|  10823732|18002.2305776688|\n",
            "|   1896|    AUT|Aquatics|  Gold|   8611088| 43774.985173612|\n",
            "+-------+-------+--------+------+----------+----------------+\n",
            "only showing top 10 rows\n",
            "\n",
            "Total rows after join: 36931\n"
          ]
        }
      ]
    },
    {
      "cell_type": "code",
      "source": [
        "# Medal counts by Country\n",
        "medal_counts = df_olympics_clean.groupBy(\"Country\").agg(\n",
        "    spark_sum(when(col(\"Medal\") == \"Gold\", 1).otherwise(0)).alias(\"Golds\"),\n",
        "    spark_sum(when(col(\"Medal\") == \"Silver\", 1).otherwise(0)).alias(\"Silvers\"),\n",
        "    spark_sum(when(col(\"Medal\") == \"Bronze\", 1).otherwise(0)).alias(\"Bronzes\"),\n",
        "    count(\"*\").alias(\"TotalMedals\")\n",
        ").orderBy(desc(\"TotalMedals\"))\n",
        "\n",
        "medal_counts.show(20)\n",
        "\n",
        "# Top sports by medals\n",
        "top_sports = df_olympics_clean.groupBy(\"Sport\").agg(count(\"*\").alias(\"MedalCount\")).orderBy(desc(\"MedalCount\"))\n",
        "top_sports.show(10)\n",
        "\n",
        "# Medals per capita (for countries with pop > 0)\n",
        "medals_per_capita = df_joined.filter(col(\"Population\") > 0).groupBy(\"Country\").agg(\n",
        "    round(avg(col(\"Population\") / spark_sum(when(col(\"Medal\").isin(\"Gold\", \"Silver\", \"Bronze\"), 1).otherwise(0))), 6).alias(\"MedalsPerMillion\")\n",
        ").orderBy(desc(\"MedalsPerMillion\"))\n",
        "medals_per_capita.show(10)\n",
        "\n",
        "# Time trend: Medals by year\n",
        "yearly_medals = df_olympics_clean.groupBy(\"YearInt\").agg(count(\"*\").alias(\"TotalMedals\")).orderBy(\"YearInt\")\n",
        "yearly_medals.show()\n",
        "\n"
      ],
      "metadata": {
        "colab": {
          "base_uri": "https://localhost:8080/",
          "height": 1000
        },
        "id": "6RgMjUfHueHs",
        "outputId": "f63d0de2-d19c-4958-933c-094334ca121a"
      },
      "execution_count": 45,
      "outputs": [
        {
          "output_type": "stream",
          "name": "stdout",
          "text": [
            "+-------+-----+-------+-------+-----------+\n",
            "|Country|Golds|Silvers|Bronzes|TotalMedals|\n",
            "+-------+-----+-------+-------+-----------+\n",
            "|    USA| 2402|   1571|   1265|       5238|\n",
            "|    URS| 1088|    724|    677|       2489|\n",
            "|    GBR|  580|    632|    587|       1799|\n",
            "|    GER|  589|    504|    572|       1665|\n",
            "|    FRA|  444|    526|    578|       1548|\n",
            "|    ITA|  534|    473|    481|       1488|\n",
            "|    SWE|  476|    496|    505|       1477|\n",
            "|    CAN|  470|    435|    369|       1274|\n",
            "|    AUS|  317|    408|    479|       1204|\n",
            "|    HUN|  412|    320|    359|       1091|\n",
            "|    RUS|  333|    328|    370|       1031|\n",
            "|    NOR|  368|    371|    272|       1011|\n",
            "|    GDR|  387|    321|    279|        987|\n",
            "|    NED|  275|    317|    381|        973|\n",
            "|    FIN|  190|    267|    433|        890|\n",
            "|    CHN|  306|    326|    257|        889|\n",
            "|    JPN|  230|    294|    327|        851|\n",
            "|    SUI|  151|    244|    270|        665|\n",
            "|    ROU|  157|    195|    290|        642|\n",
            "|    KOR|  209|    230|    177|        616|\n",
            "+-------+-----+-------+-------+-----------+\n",
            "only showing top 20 rows\n",
            "\n",
            "+----------+----------+\n",
            "|     Sport|MedalCount|\n",
            "+----------+----------+\n",
            "|  Aquatics|      4170|\n",
            "| Athletics|      3637|\n",
            "|    Rowing|      2667|\n",
            "|Gymnastics|      2307|\n",
            "|    Skiing|      1781|\n",
            "|   Fencing|      1613|\n",
            "|Ice Hockey|      1563|\n",
            "|  Football|      1497|\n",
            "|    Hockey|      1422|\n",
            "|   Skating|      1256|\n",
            "+----------+----------+\n",
            "only showing top 10 rows\n",
            "\n"
          ]
        },
        {
          "output_type": "error",
          "ename": "AnalysisException",
          "evalue": "[NESTED_AGGREGATE_FUNCTION] It is not allowed to use an aggregate function in the argument of another aggregate function. Please use the inner aggregate function in a sub-query.;\nAggregate [Country#47], [Country#47, round(avg((cast(Population#6200 as double) / cast(sum(CASE WHEN Medal#50 IN (Gold,Silver,Bronze) THEN 1 ELSE 0 END) as double))), 6) AS MedalsPerMillion#7801]\n+- Filter (Population#6200 > 0)\n   +- Project [Year#42, City#43, Sport#44, Discipline#45, Athlete#46, Country#47, Gender#48, Event#49, Medal#50, YearInt#6165, Code#18, Population#6200, GDP per Capita#6201]\n      +- Join LeftOuter, (Country#47 = Code#18)\n         :- Filter atleastnnonnulls(2, Country#47, Medal#50)\n         :  +- Project [Year#42, City#43, Sport#44, Discipline#45, Athlete#46, Country#47, Gender#48, Event#49, Medal#50, cast(Year#42 as int) AS YearInt#6165]\n         :     +- Filter Medal#50 IN (Gold,Silver,Bronze)\n         :        +- Union false, false\n         :           :- Relation [Year#42,City#43,Sport#44,Discipline#45,Athlete#46,Country#47,Gender#48,Event#49,Medal#50] csv\n         :           +- Relation [Year#77,City#78,Sport#79,Discipline#80,Athlete#81,Country#82,Gender#83,Event#84,Medal#85] csv\n         +- Project [Country#17, Code#18, coalesce(Population#6186, cast(0 as int)) AS Population#6200, coalesce(nanvl(GDP per Capita#6191, cast(null as double)), cast(0.0 as double)) AS GDP per Capita#6201]\n            +- Project [Country#17, Code#18, Population#6186, cast(GDP per Capita#20 as double) AS GDP per Capita#6191]\n               +- Project [Country#17, Code#18, cast(Population#19 as int) AS Population#6186, GDP per Capita#20]\n                  +- Relation [Country#17,Code#18,Population#19,GDP per Capita#20] csv\n",
          "traceback": [
            "\u001b[0;31m---------------------------------------------------------------------------\u001b[0m",
            "\u001b[0;31mAnalysisException\u001b[0m                         Traceback (most recent call last)",
            "\u001b[0;32m/tmp/ipython-input-3257445272.py\u001b[0m in \u001b[0;36m<cell line: 0>\u001b[0;34m()\u001b[0m\n\u001b[1;32m     14\u001b[0m \u001b[0;34m\u001b[0m\u001b[0m\n\u001b[1;32m     15\u001b[0m \u001b[0;31m# Medals per capita (for countries with pop > 0)\u001b[0m\u001b[0;34m\u001b[0m\u001b[0;34m\u001b[0m\u001b[0m\n\u001b[0;32m---> 16\u001b[0;31m medals_per_capita = df_joined.filter(col(\"Population\") > 0).groupBy(\"Country\").agg(\n\u001b[0m\u001b[1;32m     17\u001b[0m     \u001b[0mround\u001b[0m\u001b[0;34m(\u001b[0m\u001b[0mavg\u001b[0m\u001b[0;34m(\u001b[0m\u001b[0mcol\u001b[0m\u001b[0;34m(\u001b[0m\u001b[0;34m\"Population\"\u001b[0m\u001b[0;34m)\u001b[0m \u001b[0;34m/\u001b[0m \u001b[0mspark_sum\u001b[0m\u001b[0;34m(\u001b[0m\u001b[0mwhen\u001b[0m\u001b[0;34m(\u001b[0m\u001b[0mcol\u001b[0m\u001b[0;34m(\u001b[0m\u001b[0;34m\"Medal\"\u001b[0m\u001b[0;34m)\u001b[0m\u001b[0;34m.\u001b[0m\u001b[0misin\u001b[0m\u001b[0;34m(\u001b[0m\u001b[0;34m\"Gold\"\u001b[0m\u001b[0;34m,\u001b[0m \u001b[0;34m\"Silver\"\u001b[0m\u001b[0;34m,\u001b[0m \u001b[0;34m\"Bronze\"\u001b[0m\u001b[0;34m)\u001b[0m\u001b[0;34m,\u001b[0m \u001b[0;36m1\u001b[0m\u001b[0;34m)\u001b[0m\u001b[0;34m.\u001b[0m\u001b[0motherwise\u001b[0m\u001b[0;34m(\u001b[0m\u001b[0;36m0\u001b[0m\u001b[0;34m)\u001b[0m\u001b[0;34m)\u001b[0m\u001b[0;34m)\u001b[0m\u001b[0;34m,\u001b[0m \u001b[0;36m6\u001b[0m\u001b[0;34m)\u001b[0m\u001b[0;34m.\u001b[0m\u001b[0malias\u001b[0m\u001b[0;34m(\u001b[0m\u001b[0;34m\"MedalsPerMillion\"\u001b[0m\u001b[0;34m)\u001b[0m\u001b[0;34m\u001b[0m\u001b[0;34m\u001b[0m\u001b[0m\n\u001b[1;32m     18\u001b[0m ).orderBy(desc(\"MedalsPerMillion\"))\n",
            "\u001b[0;32m/usr/local/lib/python3.12/dist-packages/pyspark/sql/group.py\u001b[0m in \u001b[0;36magg\u001b[0;34m(self, *exprs)\u001b[0m\n\u001b[1;32m    184\u001b[0m             \u001b[0;32massert\u001b[0m \u001b[0mall\u001b[0m\u001b[0;34m(\u001b[0m\u001b[0misinstance\u001b[0m\u001b[0;34m(\u001b[0m\u001b[0mc\u001b[0m\u001b[0;34m,\u001b[0m \u001b[0mColumn\u001b[0m\u001b[0;34m)\u001b[0m \u001b[0;32mfor\u001b[0m \u001b[0mc\u001b[0m \u001b[0;32min\u001b[0m \u001b[0mexprs\u001b[0m\u001b[0;34m)\u001b[0m\u001b[0;34m,\u001b[0m \u001b[0;34m\"all exprs should be Column\"\u001b[0m\u001b[0;34m\u001b[0m\u001b[0;34m\u001b[0m\u001b[0m\n\u001b[1;32m    185\u001b[0m             \u001b[0mexprs\u001b[0m \u001b[0;34m=\u001b[0m \u001b[0mcast\u001b[0m\u001b[0;34m(\u001b[0m\u001b[0mTuple\u001b[0m\u001b[0;34m[\u001b[0m\u001b[0mColumn\u001b[0m\u001b[0;34m,\u001b[0m \u001b[0;34m...\u001b[0m\u001b[0;34m]\u001b[0m\u001b[0;34m,\u001b[0m \u001b[0mexprs\u001b[0m\u001b[0;34m)\u001b[0m\u001b[0;34m\u001b[0m\u001b[0;34m\u001b[0m\u001b[0m\n\u001b[0;32m--> 186\u001b[0;31m             \u001b[0mjdf\u001b[0m \u001b[0;34m=\u001b[0m \u001b[0mself\u001b[0m\u001b[0;34m.\u001b[0m\u001b[0m_jgd\u001b[0m\u001b[0;34m.\u001b[0m\u001b[0magg\u001b[0m\u001b[0;34m(\u001b[0m\u001b[0mexprs\u001b[0m\u001b[0;34m[\u001b[0m\u001b[0;36m0\u001b[0m\u001b[0;34m]\u001b[0m\u001b[0;34m.\u001b[0m\u001b[0m_jc\u001b[0m\u001b[0;34m,\u001b[0m \u001b[0m_to_seq\u001b[0m\u001b[0;34m(\u001b[0m\u001b[0mself\u001b[0m\u001b[0;34m.\u001b[0m\u001b[0msession\u001b[0m\u001b[0;34m.\u001b[0m\u001b[0m_sc\u001b[0m\u001b[0;34m,\u001b[0m \u001b[0;34m[\u001b[0m\u001b[0mc\u001b[0m\u001b[0;34m.\u001b[0m\u001b[0m_jc\u001b[0m \u001b[0;32mfor\u001b[0m \u001b[0mc\u001b[0m \u001b[0;32min\u001b[0m \u001b[0mexprs\u001b[0m\u001b[0;34m[\u001b[0m\u001b[0;36m1\u001b[0m\u001b[0;34m:\u001b[0m\u001b[0;34m]\u001b[0m\u001b[0;34m]\u001b[0m\u001b[0;34m)\u001b[0m\u001b[0;34m)\u001b[0m\u001b[0;34m\u001b[0m\u001b[0;34m\u001b[0m\u001b[0m\n\u001b[0m\u001b[1;32m    187\u001b[0m         \u001b[0;32mreturn\u001b[0m \u001b[0mDataFrame\u001b[0m\u001b[0;34m(\u001b[0m\u001b[0mjdf\u001b[0m\u001b[0;34m,\u001b[0m \u001b[0mself\u001b[0m\u001b[0;34m.\u001b[0m\u001b[0msession\u001b[0m\u001b[0;34m)\u001b[0m\u001b[0;34m\u001b[0m\u001b[0;34m\u001b[0m\u001b[0m\n\u001b[1;32m    188\u001b[0m \u001b[0;34m\u001b[0m\u001b[0m\n",
            "\u001b[0;32m/usr/local/lib/python3.12/dist-packages/py4j/java_gateway.py\u001b[0m in \u001b[0;36m__call__\u001b[0;34m(self, *args)\u001b[0m\n\u001b[1;32m   1320\u001b[0m \u001b[0;34m\u001b[0m\u001b[0m\n\u001b[1;32m   1321\u001b[0m         \u001b[0manswer\u001b[0m \u001b[0;34m=\u001b[0m \u001b[0mself\u001b[0m\u001b[0;34m.\u001b[0m\u001b[0mgateway_client\u001b[0m\u001b[0;34m.\u001b[0m\u001b[0msend_command\u001b[0m\u001b[0;34m(\u001b[0m\u001b[0mcommand\u001b[0m\u001b[0;34m)\u001b[0m\u001b[0;34m\u001b[0m\u001b[0;34m\u001b[0m\u001b[0m\n\u001b[0;32m-> 1322\u001b[0;31m         return_value = get_return_value(\n\u001b[0m\u001b[1;32m   1323\u001b[0m             answer, self.gateway_client, self.target_id, self.name)\n\u001b[1;32m   1324\u001b[0m \u001b[0;34m\u001b[0m\u001b[0m\n",
            "\u001b[0;32m/usr/local/lib/python3.12/dist-packages/pyspark/errors/exceptions/captured.py\u001b[0m in \u001b[0;36mdeco\u001b[0;34m(*a, **kw)\u001b[0m\n\u001b[1;32m    183\u001b[0m                 \u001b[0;31m# Hide where the exception came from that shows a non-Pythonic\u001b[0m\u001b[0;34m\u001b[0m\u001b[0;34m\u001b[0m\u001b[0m\n\u001b[1;32m    184\u001b[0m                 \u001b[0;31m# JVM exception message.\u001b[0m\u001b[0;34m\u001b[0m\u001b[0;34m\u001b[0m\u001b[0m\n\u001b[0;32m--> 185\u001b[0;31m                 \u001b[0;32mraise\u001b[0m \u001b[0mconverted\u001b[0m \u001b[0;32mfrom\u001b[0m \u001b[0;32mNone\u001b[0m\u001b[0;34m\u001b[0m\u001b[0;34m\u001b[0m\u001b[0m\n\u001b[0m\u001b[1;32m    186\u001b[0m             \u001b[0;32melse\u001b[0m\u001b[0;34m:\u001b[0m\u001b[0;34m\u001b[0m\u001b[0;34m\u001b[0m\u001b[0m\n\u001b[1;32m    187\u001b[0m                 \u001b[0;32mraise\u001b[0m\u001b[0;34m\u001b[0m\u001b[0;34m\u001b[0m\u001b[0m\n",
            "\u001b[0;31mAnalysisException\u001b[0m: [NESTED_AGGREGATE_FUNCTION] It is not allowed to use an aggregate function in the argument of another aggregate function. Please use the inner aggregate function in a sub-query.;\nAggregate [Country#47], [Country#47, round(avg((cast(Population#6200 as double) / cast(sum(CASE WHEN Medal#50 IN (Gold,Silver,Bronze) THEN 1 ELSE 0 END) as double))), 6) AS MedalsPerMillion#7801]\n+- Filter (Population#6200 > 0)\n   +- Project [Year#42, City#43, Sport#44, Discipline#45, Athlete#46, Country#47, Gender#48, Event#49, Medal#50, YearInt#6165, Code#18, Population#6200, GDP per Capita#6201]\n      +- Join LeftOuter, (Country#47 = Code#18)\n         :- Filter atleastnnonnulls(2, Country#47, Medal#50)\n         :  +- Project [Year#42, City#43, Sport#44, Discipline#45, Athlete#46, Country#47, Gender#48, Event#49, Medal#50, cast(Year#42 as int) AS YearInt#6165]\n         :     +- Filter Medal#50 IN (Gold,Silver,Bronze)\n         :        +- Union false, false\n         :           :- Relation [Year#42,City#43,Sport#44,Discipline#45,Athlete#46,Country#47,Gender#48,Event#49,Medal#50] csv\n         :           +- Relation [Year#77,City#78,Sport#79,Discipline#80,Athlete#81,Country#82,Gender#83,Event#84,Medal#85] csv\n         +- Project [Country#17, Code#18, coalesce(Population#6186, cast(0 as int)) AS Population#6200, coalesce(nanvl(GDP per Capita#6191, cast(null as double)), cast(0.0 as double)) AS GDP per Capita#6201]\n            +- Project [Country#17, Code#18, Population#6186, cast(GDP per Capita#20 as double) AS GDP per Capita#6191]\n               +- Project [Country#17, Code#18, cast(Population#19 as int) AS Population#6186, GDP per Capita#20]\n                  +- Relation [Country#17,Code#18,Population#19,GDP per Capita#20] csv\n"
          ]
        }
      ]
    },
    {
      "cell_type": "code",
      "source": [
        "# Register as temp views for SQL\n",
        "df_olympics_clean.createOrReplaceTempView(\"olympics\")\n",
        "df_joined.createOrReplaceTempView(\"joined\")\n",
        "\n",
        "# SQL: Top 5 countries by gold medals post-2000\n",
        "spark.sql(\"\"\"\n",
        "    SELECT Country, COUNT(*) as GoldCount\n",
        "    FROM olympics\n",
        "    WHERE Medal = 'Gold' AND YearInt >= 2000\n",
        "    GROUP BY Country\n",
        "    ORDER BY GoldCount DESC\n",
        "    LIMIT 5\n",
        "\"\"\").show()\n",
        "\n",
        "# SQL: Correlation-like: Average GDP for gold-winning countries vs. others\n",
        "spark.sql(\"\"\"\n",
        "    SELECT\n",
        "        CASE WHEN Medal = 'Gold' THEN 'Gold Winners' ELSE 'Non-Gold' END as Category,\n",
        "        ROUND(AVG(`GDP per Capita`), 2) as AvgGDP\n",
        "    FROM joined\n",
        "    WHERE `GDP per Capita` > 0\n",
        "    GROUP BY CASE WHEN Medal = 'Gold' THEN 'Gold Winners' ELSE 'Non-Gold' END\n",
        "\"\"\").show()"
      ],
      "metadata": {
        "colab": {
          "base_uri": "https://localhost:8080/"
        },
        "id": "o_WgizmIvJdj",
        "outputId": "62082139-affe-4918-8c02-c78a1326a4a7"
      },
      "execution_count": 29,
      "outputs": [
        {
          "output_type": "stream",
          "name": "stdout",
          "text": [
            "+-------+---------+\n",
            "|Country|GoldCount|\n",
            "+-------+---------+\n",
            "|    USA|      560|\n",
            "|    RUS|      264|\n",
            "|    GER|      238|\n",
            "|    CHN|      237|\n",
            "|    CAN|      232|\n",
            "+-------+---------+\n",
            "\n",
            "+------------+--------+\n",
            "|    Category|  AvgGDP|\n",
            "+------------+--------+\n",
            "|    Non-Gold|37560.38|\n",
            "|Gold Winners|39686.73|\n",
            "+------------+--------+\n",
            "\n"
          ]
        }
      ]
    },
    {
      "cell_type": "code",
      "source": [
        "# Prep features: Aggregate medals per country, use log(pop) to handle scale\n",
        "country_medals = df_joined.groupBy(\"Country\", \"Code\", \"Population\", \"GDP per Capita\").agg(\n",
        "    spark_sum(when(col(\"Medal\").isin(\"Gold\", \"Silver\", \"Bronze\"), 1).otherwise(0)).alias(\"TotalMedals\")\n",
        ").filter(col(\"Population\") > 0).withColumn(\"LogPop\", lit(1) + col(\"Population\").cast(DoubleType()).log())\n",
        "\n",
        "# Features for ML\n",
        "assembler = VectorAssembler(inputCols=[\"GDP per Capita\", \"LogPop\"], outputCol=\"features\")\n",
        "df_ml = assembler.transform(country_medals).select(\"TotalMedals\", \"features\")\n",
        "\n",
        "# Split train/test\n",
        "train_data, test_data = df_ml.randomSplit([0.8, 0.2])\n",
        "\n",
        "# Train model\n",
        "lr = LinearRegression(featuresCol=\"features\", labelCol=\"TotalMedals\")\n",
        "lr_model = lr.fit(train_data)\n",
        "\n",
        "# Predictions\n",
        "predictions = lr_model.transform(test_data)\n",
        "evaluator = RegressionEvaluator(labelCol=\"TotalMedals\", predictionCol=\"prediction\", metricName=\"rmse\")\n",
        "rmse = evaluator.evaluate(predictions)\n",
        "print(f\"RMSE: {rmse}\")\n",
        "\n",
        "# Coefficients\n",
        "print(\"Coefficients: GDP Impact =\", lr_model.coefficients[0], \"| LogPop Impact =\", lr_model.coefficients[1])\n"
      ],
      "metadata": {
        "colab": {
          "base_uri": "https://localhost:8080/",
          "height": 211
        },
        "id": "y6LkOOruwVto",
        "outputId": "053bbcfb-5d81-407f-8f82-492480643921"
      },
      "execution_count": 44,
      "outputs": [
        {
          "output_type": "error",
          "ename": "TypeError",
          "evalue": "'Column' object is not callable",
          "traceback": [
            "\u001b[0;31m---------------------------------------------------------------------------\u001b[0m",
            "\u001b[0;31mTypeError\u001b[0m                                 Traceback (most recent call last)",
            "\u001b[0;32m/tmp/ipython-input-4125220689.py\u001b[0m in \u001b[0;36m<cell line: 0>\u001b[0;34m()\u001b[0m\n\u001b[1;32m      2\u001b[0m country_medals = df_joined.groupBy(\"Country\", \"Code\", \"Population\", \"GDP per Capita\").agg(\n\u001b[1;32m      3\u001b[0m     \u001b[0mspark_sum\u001b[0m\u001b[0;34m(\u001b[0m\u001b[0mwhen\u001b[0m\u001b[0;34m(\u001b[0m\u001b[0mcol\u001b[0m\u001b[0;34m(\u001b[0m\u001b[0;34m\"Medal\"\u001b[0m\u001b[0;34m)\u001b[0m\u001b[0;34m.\u001b[0m\u001b[0misin\u001b[0m\u001b[0;34m(\u001b[0m\u001b[0;34m\"Gold\"\u001b[0m\u001b[0;34m,\u001b[0m \u001b[0;34m\"Silver\"\u001b[0m\u001b[0;34m,\u001b[0m \u001b[0;34m\"Bronze\"\u001b[0m\u001b[0;34m)\u001b[0m\u001b[0;34m,\u001b[0m \u001b[0;36m1\u001b[0m\u001b[0;34m)\u001b[0m\u001b[0;34m.\u001b[0m\u001b[0motherwise\u001b[0m\u001b[0;34m(\u001b[0m\u001b[0;36m0\u001b[0m\u001b[0;34m)\u001b[0m\u001b[0;34m)\u001b[0m\u001b[0;34m.\u001b[0m\u001b[0malias\u001b[0m\u001b[0;34m(\u001b[0m\u001b[0;34m\"TotalMedals\"\u001b[0m\u001b[0;34m)\u001b[0m\u001b[0;34m\u001b[0m\u001b[0;34m\u001b[0m\u001b[0m\n\u001b[0;32m----> 4\u001b[0;31m ).filter(col(\"Population\") > 0).withColumn(\"LogPop\", lit(1) + col(\"Population\").cast(DoubleType()).log())\n\u001b[0m\u001b[1;32m      5\u001b[0m \u001b[0;34m\u001b[0m\u001b[0m\n\u001b[1;32m      6\u001b[0m \u001b[0;31m# Features for ML\u001b[0m\u001b[0;34m\u001b[0m\u001b[0;34m\u001b[0m\u001b[0m\n",
            "\u001b[0;31mTypeError\u001b[0m: 'Column' object is not callable"
          ]
        }
      ]
    },
    {
      "cell_type": "code",
      "source": [
        "# Convert top results to Pandas for plotting\n",
        "top_countries_pd = medal_counts.limit(10).toPandas()\n",
        "\n",
        "plt.figure(figsize=(10, 6))\n",
        "plt.barh(top_countries_pd['Country'], top_countries_pd['TotalMedals'])\n",
        "plt.xlabel('Total Medals')\n",
        "plt.title('Top 10 Countries by Olympic Medals')\n",
        "plt.gca().invert_yaxis()\n",
        "plt.show()\n",
        "\n",
        "# Yearly trend plot\n",
        "yearly_pd = yearly_medals.toPandas()\n",
        "plt.figure(figsize=(12, 6))\n",
        "plt.plot(yearly_pd['YearInt'], yearly_pd['TotalMedals'])\n",
        "plt.xlabel('Year')\n",
        "plt.ylabel('Total Medals')\n",
        "plt.title('Olympic Medals Over Time')\n",
        "plt.xticks(rotation=45)\n",
        "plt.show()\n",
        "\n",
        "# Summary report\n",
        "print(\"Project Summary:\")\n",
        "print(f\"- Total Olympic Records: {df_olympics.count()}\")\n",
        "print(f\"- Unique Countries: {df_olympics.select('Country').distinct().count()}\")\n",
        "print(f\"- Most Medals: {top_countries_pd.iloc[0]['Country']} with {top_countries_pd.iloc[0]['TotalMedals']} medals\")"
      ],
      "metadata": {
        "colab": {
          "base_uri": "https://localhost:8080/",
          "height": 1000
        },
        "id": "9Z3Nr1wmv9wT",
        "outputId": "674332b6-b8df-4d56-d143-3ccc5a0c9fdd"
      },
      "execution_count": 35,
      "outputs": [
        {
          "output_type": "display_data",
          "data": {
            "text/plain": [
              "<Figure size 1000x600 with 1 Axes>"
            ],
            "image/png": "[encoded data removed]"
          },
          "metadata": {}
        },
        {
          "output_type": "display_data",
          "data": {
            "text/plain": [
              "<Figure size 1200x600 with 1 Axes>"
            ],
            "image/png": "[encoded data removed]"
          },
          "metadata": {}
        },
        {
          "output_type": "stream",
          "name": "stdout",
          "text": [
            "Project Summary:\n",
            "- Total Olympic Records: 36935\n",
            "- Unique Countries: 149\n",
            "- Most Medals: USA with 5238 medals\n"
          ]
        }
      ]
    }
  ]
}